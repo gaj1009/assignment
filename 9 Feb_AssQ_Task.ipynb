{
 "cells": [
  {
   "cell_type": "markdown",
   "id": "57b9610a-6e51-4fa7-965e-04ad26d5e913",
   "metadata": {},
   "source": [
    "Q1"
   ]
  },
  {
   "cell_type": "code",
   "execution_count": 4,
   "id": "db947894-882f-4f26-b6cb-754f773eb69a",
   "metadata": {},
   "outputs": [],
   "source": [
    "class vehicle:\n",
    "    def __init__(self,name_of_vehicle, max_speed,avg_of_vehicle):\n",
    "        self.name_of_vehicle = name_of_vehicle\n",
    "        self.max_speed = max_speed\n",
    "        self.avg_of_vehicle = avg_of_vehicle\n",
    "    \n",
    "    def return_vehicle_info(self):\n",
    "        return self.name_of_vehicle, self.max_speed, self.avg_of_vehicle"
   ]
  },
  {
   "cell_type": "code",
   "execution_count": 5,
   "id": "4d6390df-70a3-46e2-8867-b9ee8c053a2a",
   "metadata": {},
   "outputs": [],
   "source": [
    "scorpion = vehicle(\"mahindra\",290,12) "
   ]
  },
  {
   "cell_type": "code",
   "execution_count": 6,
   "id": "9119c9ac-76da-4c30-a18e-068437515285",
   "metadata": {},
   "outputs": [
    {
     "data": {
      "text/plain": [
       "12"
      ]
     },
     "execution_count": 6,
     "metadata": {},
     "output_type": "execute_result"
    }
   ],
   "source": [
    "scorpion.avg_of_vehicle"
   ]
  },
  {
   "cell_type": "code",
   "execution_count": 7,
   "id": "6642553f-1ad3-4fa1-93d4-1b70e6c2446d",
   "metadata": {},
   "outputs": [
    {
     "data": {
      "text/plain": [
       "290"
      ]
     },
     "execution_count": 7,
     "metadata": {},
     "output_type": "execute_result"
    }
   ],
   "source": [
    "scorpion.max_speed"
   ]
  },
  {
   "cell_type": "code",
   "execution_count": 8,
   "id": "1d3ee3d6-f3aa-476e-a247-fc85eef4e548",
   "metadata": {},
   "outputs": [
    {
     "data": {
      "text/plain": [
       "'mahindra'"
      ]
     },
     "execution_count": 8,
     "metadata": {},
     "output_type": "execute_result"
    }
   ],
   "source": [
    "scorpion.name_of_vehicle"
   ]
  },
  {
   "cell_type": "markdown",
   "id": "592d850f-de5f-4b74-8dc2-b729bcdc85de",
   "metadata": {},
   "source": [
    "Q2"
   ]
  },
  {
   "cell_type": "code",
   "execution_count": 22,
   "id": "7d238642-4969-48d0-b0ab-2031d44433ca",
   "metadata": {},
   "outputs": [],
   "source": [
    "class vehicle:\n",
    "    \n",
    "    def __init__(self,name_of_vehicle, max_speed,avg_of_vehicle):\n",
    "        self.name_of_vehicle = name_of_vehicle\n",
    "        self.max_speed = max_speed\n",
    "        self.avg_of_vehicle = avg_of_vehicle\n",
    "        \n",
    "class car(vehicle):\n",
    "    \n",
    "    def __init__(self,name_of_vehicle,seating_capacity):\n",
    "        self.name_of_vehicle = name_of_vehicle\n",
    "        self.seating_capacity = seating_capacity\n",
    "        \n",
    "    def return_vehicle_info(self, capacity):\n",
    "        return self.name_of_vehicle, self.seating_capacity"
   ]
  },
  {
   "cell_type": "code",
   "execution_count": 23,
   "id": "8e8ceef8-f667-4a8b-9331-a073d24b64c0",
   "metadata": {},
   "outputs": [],
   "source": [
    "xuv = car(\"mahindra\", 7)"
   ]
  },
  {
   "cell_type": "code",
   "execution_count": 24,
   "id": "dc20409b-40cd-4c14-a046-b2f64c386847",
   "metadata": {},
   "outputs": [
    {
     "data": {
      "text/plain": [
       "'mahindra'"
      ]
     },
     "execution_count": 24,
     "metadata": {},
     "output_type": "execute_result"
    }
   ],
   "source": [
    "xuv.name_of_vehicle"
   ]
  },
  {
   "cell_type": "code",
   "execution_count": 25,
   "id": "c064f22f-2e66-46a5-9a20-42b31c31065f",
   "metadata": {},
   "outputs": [
    {
     "data": {
      "text/plain": [
       "7"
      ]
     },
     "execution_count": 25,
     "metadata": {},
     "output_type": "execute_result"
    }
   ],
   "source": [
    "xuv.seating_capacity"
   ]
  },
  {
   "cell_type": "code",
   "execution_count": 27,
   "id": "2dbd8c0e-3cb9-48dc-8a4f-41fdee10e40f",
   "metadata": {},
   "outputs": [
    {
     "data": {
      "text/plain": [
       "('mahindra', 7)"
      ]
     },
     "execution_count": 27,
     "metadata": {},
     "output_type": "execute_result"
    }
   ],
   "source": [
    "xuv.return_vehicle_info(7)"
   ]
  },
  {
   "cell_type": "markdown",
   "id": "5e03ae22-be72-47b0-bbf1-64dcfbf69506",
   "metadata": {},
   "source": [
    "Q3"
   ]
  },
  {
   "cell_type": "markdown",
   "id": "6657738f-521d-480e-9630-ba829a70a210",
   "metadata": {},
   "source": [
    "Multiple Inheritance: \n",
    "    A child Class is inherited from two different classes then it will called as \n",
    "    Multiple Inheritance.    "
   ]
  },
  {
   "cell_type": "code",
   "execution_count": 29,
   "id": "98da6e27-e3b1-4d25-8ae9-e03d5887c1fe",
   "metadata": {},
   "outputs": [],
   "source": [
    "# First parent class\n",
    "class Engine:\n",
    "    def start_engine(self):\n",
    "        return \"Engine started\"\n",
    "\n",
    "# Second parent class\n",
    "class Electric:\n",
    "    def charge_battery(self):\n",
    "        return \"Battery charging\"\n",
    "\n",
    "# Child class inheriting from both Engine and Electric\n",
    "class HybridCar(Engine, Electric):\n",
    "    def drive(self):\n",
    "        return \"Driving hybrid car\""
   ]
  },
  {
   "cell_type": "code",
   "execution_count": 30,
   "id": "5571078a-3eab-4fb8-ada5-27d05304ad86",
   "metadata": {},
   "outputs": [],
   "source": [
    "myhybrid_car = HybridCar()"
   ]
  },
  {
   "cell_type": "code",
   "execution_count": 32,
   "id": "150cb653-4aef-47ee-aa77-3784054bbb8d",
   "metadata": {},
   "outputs": [
    {
     "data": {
      "text/plain": [
       "'Engine started'"
      ]
     },
     "execution_count": 32,
     "metadata": {},
     "output_type": "execute_result"
    }
   ],
   "source": [
    "myhybrid_car.start_engine()"
   ]
  },
  {
   "cell_type": "code",
   "execution_count": 33,
   "id": "46bce84c-455e-408e-9214-bd1e82fd1bc8",
   "metadata": {},
   "outputs": [
    {
     "data": {
      "text/plain": [
       "'Battery charging'"
      ]
     },
     "execution_count": 33,
     "metadata": {},
     "output_type": "execute_result"
    }
   ],
   "source": [
    "myhybrid_car.charge_battery()"
   ]
  },
  {
   "cell_type": "code",
   "execution_count": 34,
   "id": "93d21e58-e734-4e40-93f3-5ab86d966db3",
   "metadata": {},
   "outputs": [
    {
     "data": {
      "text/plain": [
       "'Driving hybrid car'"
      ]
     },
     "execution_count": 34,
     "metadata": {},
     "output_type": "execute_result"
    }
   ],
   "source": [
    "myhybrid_car.drive()"
   ]
  },
  {
   "cell_type": "markdown",
   "id": "d1de880e-adb2-4c09-8088-d52fa232503b",
   "metadata": {},
   "source": [
    "Q4"
   ]
  },
  {
   "cell_type": "markdown",
   "id": "2dd92ec6-623b-48b6-923e-3e988165c60a",
   "metadata": {},
   "source": [
    "getter:- A getter is a method by which one can access the data in given class."
   ]
  },
  {
   "cell_type": "markdown",
   "id": "6b7be391-7a88-475a-906d-ecb284992c72",
   "metadata": {},
   "source": [
    "setter:- A setter is a method by which one can set or change the values in given class."
   ]
  },
  {
   "cell_type": "code",
   "execution_count": 78,
   "id": "0733aefe-bd96-44a0-b0c0-05e1cb7f7aff",
   "metadata": {},
   "outputs": [],
   "source": [
    "#Program based on get and set method:-\n",
    "\n",
    "class person :\n",
    "    def __init__(self, name, age):\n",
    "        self.__name = name # all the instance has kept ecapsulated\n",
    "        self.__age = age\n",
    "        \n",
    "    def set_name(self, new_name):\n",
    "        self.__name = new_name\n",
    "    \n",
    "    def set_age(self, new_age):\n",
    "        self.__age = new_age\n",
    "        \n",
    "    def get_name(self):\n",
    "        return self.__name\n",
    "    \n",
    "    def get_age(self):\n",
    "        return self.__age"
   ]
  },
  {
   "cell_type": "code",
   "execution_count": 79,
   "id": "4842cb7a-ef2d-4572-8764-3f081fa1e484",
   "metadata": {},
   "outputs": [],
   "source": [
    "person = person(\"dhanu\", 23)"
   ]
  },
  {
   "cell_type": "code",
   "execution_count": 80,
   "id": "a3a22090-2f8c-4063-aa02-b97318f6c229",
   "metadata": {},
   "outputs": [
    {
     "data": {
      "text/plain": [
       "23"
      ]
     },
     "execution_count": 80,
     "metadata": {},
     "output_type": "execute_result"
    }
   ],
   "source": [
    "person.get_age()"
   ]
  },
  {
   "cell_type": "code",
   "execution_count": 81,
   "id": "30a2bba4-b469-48eb-b35d-f8e6ab8c1675",
   "metadata": {},
   "outputs": [
    {
     "data": {
      "text/plain": [
       "'dhanu'"
      ]
     },
     "execution_count": 81,
     "metadata": {},
     "output_type": "execute_result"
    }
   ],
   "source": [
    "person.get_name()"
   ]
  },
  {
   "cell_type": "code",
   "execution_count": 82,
   "id": "779e1321-af32-496a-a9f8-2b2428f9d4d3",
   "metadata": {},
   "outputs": [],
   "source": [
    "person.set_name(\"annu\")"
   ]
  },
  {
   "cell_type": "code",
   "execution_count": 83,
   "id": "8890a933-ed5d-4be6-bb8f-afef0098414b",
   "metadata": {},
   "outputs": [],
   "source": [
    "person.set_age(45)"
   ]
  },
  {
   "cell_type": "code",
   "execution_count": 84,
   "id": "e8626cdf-b156-4ac0-9f67-58beeb2d41a6",
   "metadata": {},
   "outputs": [
    {
     "data": {
      "text/plain": [
       "'annu'"
      ]
     },
     "execution_count": 84,
     "metadata": {},
     "output_type": "execute_result"
    }
   ],
   "source": [
    "person.get_name()"
   ]
  },
  {
   "cell_type": "markdown",
   "id": "eef92e8b-9446-4bd9-8146-1357adc7d70a",
   "metadata": {},
   "source": [
    "Q5"
   ]
  },
  {
   "cell_type": "markdown",
   "id": "5337b333-b4ce-4c1e-a70c-1e50f0e9beea",
   "metadata": {},
   "source": [
    "Method Overriding:- \n",
    "Method overriding is a feature in python oops languages where the subclass or child class \n",
    "can provide the program with specific characteristics or process of data provided that are\n",
    "already defined in the parent class."
   ]
  },
  {
   "cell_type": "code",
   "execution_count": 96,
   "id": "aedb3ae2-502e-4df0-857c-2f19db29b20f",
   "metadata": {},
   "outputs": [],
   "source": [
    "#A program based on method overriding.\n",
    "\n",
    "#parent class\n",
    "class parent:\n",
    "    def behaviour(self):\n",
    "        return \"Peace and kind\"\n",
    "    \n",
    "#child1 class inheriting from parent\n",
    "#but specific characteristic is different.\n",
    "\n",
    "class child1:\n",
    "    def behaviour(self):\n",
    "        return \"Active\"\n",
    "    \n",
    "#child2 class inheriting from parent\n",
    "#but characteristic is different.\n",
    "\n",
    "class child2:\n",
    "    def behaviour(self):\n",
    "        return \"Inactive\""
   ]
  },
  {
   "cell_type": "code",
   "execution_count": 97,
   "id": "331fe5ca-96d4-42c3-a56d-b30d7857f1f3",
   "metadata": {},
   "outputs": [],
   "source": [
    "parent = parent()"
   ]
  },
  {
   "cell_type": "code",
   "execution_count": 98,
   "id": "de6f81c3-e6ef-48f4-a91c-aa09bd35ea47",
   "metadata": {},
   "outputs": [],
   "source": [
    "child1 = child1()"
   ]
  },
  {
   "cell_type": "code",
   "execution_count": 99,
   "id": "02be78e1-903c-4613-a325-7d61840c8f5f",
   "metadata": {},
   "outputs": [],
   "source": [
    "child2 = child2()"
   ]
  },
  {
   "cell_type": "code",
   "execution_count": 103,
   "id": "b123a745-3a83-499f-bed5-78592e9f5207",
   "metadata": {},
   "outputs": [
    {
     "data": {
      "text/plain": [
       "'Peace and kind'"
      ]
     },
     "execution_count": 103,
     "metadata": {},
     "output_type": "execute_result"
    }
   ],
   "source": [
    "parent.behaviour()"
   ]
  },
  {
   "cell_type": "code",
   "execution_count": 104,
   "id": "cb01ea24-f811-439b-8a43-3cf659db5b91",
   "metadata": {},
   "outputs": [
    {
     "data": {
      "text/plain": [
       "'Active'"
      ]
     },
     "execution_count": 104,
     "metadata": {},
     "output_type": "execute_result"
    }
   ],
   "source": [
    "child1.behaviour()"
   ]
  },
  {
   "cell_type": "code",
   "execution_count": 105,
   "id": "423a1a88-0766-4ff1-af26-4fd47aa1fd69",
   "metadata": {},
   "outputs": [
    {
     "data": {
      "text/plain": [
       "'Inactive'"
      ]
     },
     "execution_count": 105,
     "metadata": {},
     "output_type": "execute_result"
    }
   ],
   "source": [
    "child2.behaviour()"
   ]
  },
  {
   "cell_type": "code",
   "execution_count": null,
   "id": "9037e740-c803-48b0-9fe2-f2fba818e3eb",
   "metadata": {},
   "outputs": [],
   "source": []
  }
 ],
 "metadata": {
  "kernelspec": {
   "display_name": "Python 3 (ipykernel)",
   "language": "python",
   "name": "python3"
  },
  "language_info": {
   "codemirror_mode": {
    "name": "ipython",
    "version": 3
   },
   "file_extension": ".py",
   "mimetype": "text/x-python",
   "name": "python",
   "nbconvert_exporter": "python",
   "pygments_lexer": "ipython3",
   "version": "3.10.8"
  }
 },
 "nbformat": 4,
 "nbformat_minor": 5
}
