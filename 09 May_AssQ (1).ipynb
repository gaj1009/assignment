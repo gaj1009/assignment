{
 "cells": [
  {
   "cell_type": "markdown",
   "id": "efbb6a73-957a-4e4f-8560-446ad517259d",
   "metadata": {},
   "source": [
    "Q1"
   ]
  },
  {
   "cell_type": "code",
   "execution_count": 1,
   "id": "ab376586-1854-4c91-8625-eb284cc02885",
   "metadata": {},
   "outputs": [],
   "source": [
    "s1 = \"Gajendra Patle\" # here in s1 variable contains string datatype\n",
    "l1 = [1,2,3,4,5,\"Gajendra\", True, (12,34,56) ] #In l1 contains list of various maultiple datatypes \n",
    "f1 = 123.123 #In f1 contains the decimal point number which is float datatype\n",
    "t1 = (12,True,(5+6j)) #In t1 contains multiple datatypes which is known as tuple datatypes, \n",
    "#open n closed by round brackets. "
   ]
  },
  {
   "cell_type": "code",
   "execution_count": 2,
   "id": "792a3d41-5574-4a25-b8a8-c07252dc6f08",
   "metadata": {},
   "outputs": [
    {
     "data": {
      "text/plain": [
       "str"
      ]
     },
     "execution_count": 2,
     "metadata": {},
     "output_type": "execute_result"
    }
   ],
   "source": [
    "type(s1)"
   ]
  },
  {
   "cell_type": "code",
   "execution_count": 3,
   "id": "706150af-ac8d-4658-80ba-49d7f5313ba4",
   "metadata": {},
   "outputs": [
    {
     "data": {
      "text/plain": [
       "list"
      ]
     },
     "execution_count": 3,
     "metadata": {},
     "output_type": "execute_result"
    }
   ],
   "source": [
    "type(l1)"
   ]
  },
  {
   "cell_type": "code",
   "execution_count": 5,
   "id": "238b154e-53f1-42ae-97ed-a85b490f4d45",
   "metadata": {},
   "outputs": [
    {
     "data": {
      "text/plain": [
       "float"
      ]
     },
     "execution_count": 5,
     "metadata": {},
     "output_type": "execute_result"
    }
   ],
   "source": [
    "type(f1)"
   ]
  },
  {
   "cell_type": "code",
   "execution_count": 6,
   "id": "4f48b845-7661-42bc-bcb5-b56df5766bc8",
   "metadata": {},
   "outputs": [
    {
     "data": {
      "text/plain": [
       "tuple"
      ]
     },
     "execution_count": 6,
     "metadata": {},
     "output_type": "execute_result"
    }
   ],
   "source": [
    "type(t1)"
   ]
  },
  {
   "cell_type": "markdown",
   "id": "0467c90d-bdd2-49cc-bec1-9eeffda7aa00",
   "metadata": {},
   "source": [
    "Q2"
   ]
  },
  {
   "cell_type": "code",
   "execution_count": 8,
   "id": "30e2ef32-ec03-4afc-8ad1-0c60d6b4850b",
   "metadata": {},
   "outputs": [],
   "source": [
    "var1 = ''"
   ]
  },
  {
   "cell_type": "code",
   "execution_count": 9,
   "id": "90d751c4-5230-4e1b-b12d-28eab353d638",
   "metadata": {},
   "outputs": [
    {
     "data": {
      "text/plain": [
       "str"
      ]
     },
     "execution_count": 9,
     "metadata": {},
     "output_type": "execute_result"
    }
   ],
   "source": [
    "type(var1)"
   ]
  },
  {
   "cell_type": "code",
   "execution_count": 10,
   "id": "703f3770-b346-4ade-ad20-f77c3997ec7b",
   "metadata": {},
   "outputs": [],
   "source": [
    "var2='[DS,ML,Python]'"
   ]
  },
  {
   "cell_type": "code",
   "execution_count": 11,
   "id": "64d17069-30fc-4c9d-8de6-5c66fd79019f",
   "metadata": {},
   "outputs": [
    {
     "data": {
      "text/plain": [
       "str"
      ]
     },
     "execution_count": 11,
     "metadata": {},
     "output_type": "execute_result"
    }
   ],
   "source": [
    "type(var2)"
   ]
  },
  {
   "cell_type": "code",
   "execution_count": 11,
   "id": "3b258aa2-d002-4151-b8fa-630ec171c3e5",
   "metadata": {},
   "outputs": [],
   "source": [
    "var3=['DS', 'ML','Python']"
   ]
  },
  {
   "cell_type": "code",
   "execution_count": 12,
   "id": "775b2f94-b7c2-4ba9-9d22-d8cc37f669a9",
   "metadata": {},
   "outputs": [
    {
     "data": {
      "text/plain": [
       "list"
      ]
     },
     "execution_count": 12,
     "metadata": {},
     "output_type": "execute_result"
    }
   ],
   "source": [
    "type(var3)"
   ]
  },
  {
   "cell_type": "code",
   "execution_count": 13,
   "id": "adb5633e-af07-4bd8-b0d0-14be3b574af9",
   "metadata": {},
   "outputs": [],
   "source": [
    "var4=1"
   ]
  },
  {
   "cell_type": "code",
   "execution_count": 14,
   "id": "719bce67-6925-44ff-9550-6ce451943dbc",
   "metadata": {},
   "outputs": [
    {
     "data": {
      "text/plain": [
       "int"
      ]
     },
     "execution_count": 14,
     "metadata": {},
     "output_type": "execute_result"
    }
   ],
   "source": [
    "type(var4)"
   ]
  },
  {
   "cell_type": "markdown",
   "id": "bb2145fb-bab6-47f3-869d-89ec35e9199e",
   "metadata": {},
   "source": [
    "Q3"
   ]
  },
  {
   "cell_type": "code",
   "execution_count": 32,
   "id": "ad42f2b1-c1d0-42b3-9330-4de5b77f8fc0",
   "metadata": {},
   "outputs": [
    {
     "data": {
      "text/plain": [
       "3.3333333333333335"
      ]
     },
     "execution_count": 32,
     "metadata": {},
     "output_type": "execute_result"
    }
   ],
   "source": [
    "10/3 #its an Arithmetic Divison Operator which can divide the two number \n",
    "#and give the quotient as output"
   ]
  },
  {
   "cell_type": "code",
   "execution_count": 25,
   "id": "6cc59fbf-82f9-43bb-85a2-226fd59ae800",
   "metadata": {},
   "outputs": [
    {
     "data": {
      "text/plain": [
       "1"
      ]
     },
     "execution_count": 25,
     "metadata": {},
     "output_type": "execute_result"
    }
   ],
   "source": [
    "10%3#Its a Arithmetic Modulus Operator gives the \n",
    "#reminder as an output"
   ]
  },
  {
   "cell_type": "code",
   "execution_count": 2,
   "id": "61d9198c-63be-4214-b90f-1aea48387f3b",
   "metadata": {},
   "outputs": [
    {
     "data": {
      "text/plain": [
       "3"
      ]
     },
     "execution_count": 2,
     "metadata": {},
     "output_type": "execute_result"
    }
   ],
   "source": [
    "10//3 #Its a Arithetic floor divison Operator which\n",
    "#gives the output nearest to the whole number"
   ]
  },
  {
   "cell_type": "code",
   "execution_count": 19,
   "id": "bc9ab1fb-20fd-4287-81f6-8ac03a156161",
   "metadata": {},
   "outputs": [
    {
     "data": {
      "text/plain": [
       "1000"
      ]
     },
     "execution_count": 19,
     "metadata": {},
     "output_type": "execute_result"
    }
   ],
   "source": [
    "10**3 #Its a Arithemtic Expoentiation Operator\n",
    "#here which can multiply the object like 10*10*10 = 1000."
   ]
  },
  {
   "cell_type": "markdown",
   "id": "38e60a85-3705-4b6a-979f-8ac4a13d89c7",
   "metadata": {},
   "source": [
    "Q4"
   ]
  },
  {
   "cell_type": "code",
   "execution_count": 20,
   "id": "666f8a70-f8d7-4bb5-9a2b-3402205240c1",
   "metadata": {},
   "outputs": [
    {
     "name": "stdout",
     "output_type": "stream",
     "text": [
      "1\n",
      "<class 'int'>\n",
      "2\n",
      "<class 'int'>\n",
      "3\n",
      "<class 'int'>\n",
      "4\n",
      "<class 'int'>\n",
      "gaj\n",
      "<class 'str'>\n",
      "34.34\n",
      "<class 'float'>\n",
      "True\n",
      "<class 'bool'>\n",
      "(5+6j)\n",
      "<class 'complex'>\n",
      "patle\n",
      "<class 'str'>\n",
      "5\n",
      "<class 'int'>\n"
     ]
    }
   ],
   "source": [
    "l1 = [1,2,3,4,\"gaj\", 34.34, True, (5+6j), \"patle\", 5]\n",
    "for i in l1:\n",
    "    print(i)\n",
    "    print(type(i))"
   ]
  },
  {
   "cell_type": "markdown",
   "id": "5bd4a5a3-ea86-4ba3-9847-7a8092e86672",
   "metadata": {},
   "source": [
    "Q5"
   ]
  },
  {
   "cell_type": "code",
   "execution_count": 29,
   "id": "ed44b17a-5ac0-461a-b904-37068f84c592",
   "metadata": {},
   "outputs": [
    {
     "data": {
      "text/plain": [
       "0"
      ]
     },
     "execution_count": 29,
     "metadata": {},
     "output_type": "execute_result"
    }
   ],
   "source": [
    "10%5"
   ]
  },
  {
   "cell_type": "code",
   "execution_count": 52,
   "id": "ec0925e7-9a5a-4997-b994-511136d0d41b",
   "metadata": {},
   "outputs": [
    {
     "name": "stdin",
     "output_type": "stream",
     "text": [
      "a = 12\n",
      "b = 2\n"
     ]
    },
    {
     "name": "stdout",
     "output_type": "stream",
     "text": [
      "Number a & b are Purely divisible & divided by 1 times {1}\n",
      "Number a & b are Purely divisible & divided by 1 times {2}\n"
     ]
    }
   ],
   "source": [
    "a = int(input(\"a =\"))\n",
    "b = int(input(\"b =\"))\n",
    "n=0\n",
    "while a % b == 0 :\n",
    "    a = a/b\n",
    "    n+=1\n",
    "    if(n > 0):\n",
    "        print(\"Number a & b are Purely divisible & divided by 1 times\",{n})\n",
    "    else:\n",
    "        print(\"Number a & b are not divisible\")"
   ]
  },
  {
   "cell_type": "markdown",
   "id": "17d19fca-2469-449d-b967-71ae3e7860b9",
   "metadata": {},
   "source": [
    "Q6"
   ]
  },
  {
   "cell_type": "code",
   "execution_count": 18,
   "id": "4c9bc83d-c861-4d1a-8e13-384c5b273953",
   "metadata": {},
   "outputs": [
    {
     "name": "stdout",
     "output_type": "stream",
     "text": [
      "12 Element is divisible by 3\n",
      "13 Element is not divisble by 3\n",
      "9 Element is divisible by 3\n",
      "8 Element is not divisble by 3\n",
      "7 Element is not divisble by 3\n",
      "21 Element is divisible by 3\n",
      "27 Element is divisible by 3\n",
      "99 Element is divisible by 3\n",
      "24 Element is divisible by 3\n",
      "31 Element is not divisble by 3\n",
      "30 Element is divisible by 3\n",
      "47 Element is not divisble by 3\n",
      "49 Element is not divisble by 3\n",
      "60 Element is divisible by 3\n",
      "63 Element is divisible by 3\n",
      "51 Element is divisible by 3\n",
      "44 Element is not divisble by 3\n",
      "65 Element is not divisble by 3\n",
      "56 Element is not divisble by 3\n",
      "78 Element is divisible by 3\n",
      "67 Element is not divisble by 3\n",
      "6 Element is divisible by 3\n",
      "3 Element is divisible by 3\n",
      "39 Element is divisible by 3\n",
      "42 Element is divisible by 3\n"
     ]
    }
   ],
   "source": [
    "list1 = [12,13,9,8,7,21,27,99,24,31,30,47,49,60,63,51,44,65,56,78,67,6,3,39,42]\n",
    "\n",
    "for i in list1:   \n",
    "    if i%3==0:\n",
    "        #print(i)\n",
    "        print(i,\"Element is divisible by 3\")\n",
    "    else:\n",
    "        #print(i)\n",
    "        print(i,\"Element is not divisble by 3\")\n",
    "        "
   ]
  },
  {
   "cell_type": "markdown",
   "id": "15cc9825-881b-4442-bd9a-d73659332743",
   "metadata": {},
   "source": [
    "Q7"
   ]
  },
  {
   "cell_type": "markdown",
   "id": "21154a00-04db-4411-b13e-c7b3b3933c9c",
   "metadata": {},
   "source": [
    "Mutable Data types:- A data type which can change its object or can customize its value. \n",
    "                   Ex:- list can change its object.\n",
    "                   \n",
    "Immuatable Data type:- Data type which cannot its change or customized its value.\n",
    "                   Ex:- tuple cannot change.\n"
   ]
  },
  {
   "cell_type": "code",
   "execution_count": 15,
   "id": "82e16477-cd60-414c-b5e2-44488a00cfc7",
   "metadata": {},
   "outputs": [
    {
     "name": "stdout",
     "output_type": "stream",
     "text": [
      "['add', 'sub']\n",
      "['div', 'multi']\n"
     ]
    }
   ],
   "source": [
    "#Mutable Example:- in list we can see the objects can be replaceable or removable\n",
    "list = ['add', 'sub']\n",
    "print(list)\n",
    "list[0] = 'div'\n",
    "list[1] = 'multi'\n",
    "print(list)"
   ]
  },
  {
   "cell_type": "code",
   "execution_count": 19,
   "id": "84b0e293-6798-4d26-95fb-7084778665a7",
   "metadata": {},
   "outputs": [
    {
     "name": "stdout",
     "output_type": "stream",
     "text": [
      "([2, 3, 4], 'Gajendra')\n"
     ]
    },
    {
     "ename": "TypeError",
     "evalue": "'tuple' object does not support item assignment",
     "output_type": "error",
     "traceback": [
      "\u001b[0;31m---------------------------------------------------------------------------\u001b[0m",
      "\u001b[0;31mTypeError\u001b[0m                                 Traceback (most recent call last)",
      "Cell \u001b[0;32mIn[19], line 4\u001b[0m\n\u001b[1;32m      2\u001b[0m \u001b[38;5;28mtuple\u001b[39m \u001b[38;5;241m=\u001b[39m ([\u001b[38;5;241m2\u001b[39m,\u001b[38;5;241m3\u001b[39m,\u001b[38;5;241m4\u001b[39m], \u001b[38;5;124m\"\u001b[39m\u001b[38;5;124mGajendra\u001b[39m\u001b[38;5;124m\"\u001b[39m)\n\u001b[1;32m      3\u001b[0m \u001b[38;5;28mprint\u001b[39m(\u001b[38;5;28mtuple\u001b[39m)\n\u001b[0;32m----> 4\u001b[0m \u001b[38;5;28;43mtuple\u001b[39;49m\u001b[43m[\u001b[49m\u001b[38;5;241;43m0\u001b[39;49m\u001b[43m]\u001b[49m \u001b[38;5;241m=\u001b[39m [\u001b[38;5;241m0\u001b[39m,\u001b[38;5;241m9\u001b[39m,\u001b[38;5;241m8\u001b[39m]\n",
      "\u001b[0;31mTypeError\u001b[0m: 'tuple' object does not support item assignment"
     ]
    }
   ],
   "source": [
    "#immutable Example:- in tuple cannot change the objects\n",
    "tuple = ([2,3,4], \"Gajendra\")\n",
    "print(tuple)\n",
    "tuple[0] = [0,9,8]\n"
   ]
  },
  {
   "cell_type": "markdown",
   "id": "ba0ebfd5-23e5-4849-9688-9c0f6e5d887c",
   "metadata": {},
   "source": [
    "'tuple' object does not support item assignment"
   ]
  }
 ],
 "metadata": {
  "kernelspec": {
   "display_name": "Python 3 (ipykernel)",
   "language": "python",
   "name": "python3"
  },
  "language_info": {
   "codemirror_mode": {
    "name": "ipython",
    "version": 3
   },
   "file_extension": ".py",
   "mimetype": "text/x-python",
   "name": "python",
   "nbconvert_exporter": "python",
   "pygments_lexer": "ipython3",
   "version": "3.10.8"
  }
 },
 "nbformat": 4,
 "nbformat_minor": 5
}
