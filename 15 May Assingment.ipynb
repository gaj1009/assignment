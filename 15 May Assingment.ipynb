{
 "cells": [
  {
   "cell_type": "markdown",
   "id": "c7c3d18a-3b03-49eb-b8c5-cb49e6a2c809",
   "metadata": {},
   "source": [
    "Q1"
   ]
  },
  {
   "cell_type": "code",
   "execution_count": 7,
   "id": "a39b822e-5d07-488e-804a-9856ecccb863",
   "metadata": {},
   "outputs": [],
   "source": [
    "###Comment can pass in code by using '# hash'\n",
    "# Single # can used for single line comment"
   ]
  },
  {
   "cell_type": "code",
   "execution_count": 4,
   "id": "50b80914-040d-43cd-b29f-eeb4cf010451",
   "metadata": {},
   "outputs": [
    {
     "name": "stdout",
     "output_type": "stream",
     "text": [
      "this is comment box\n"
     ]
    }
   ],
   "source": [
    "\"\"\"Comment also can by using triple quote\"\"\"\n",
    "print(\"this is comment box\")"
   ]
  },
  {
   "cell_type": "code",
   "execution_count": null,
   "id": "91cb47fb-9dc9-4242-a43f-634b6805e99d",
   "metadata": {},
   "outputs": [],
   "source": [
    "'Single line comments'"
   ]
  },
  {
   "cell_type": "code",
   "execution_count": 5,
   "id": "ce3a4372-c54c-4c24-ba90-58d4de8d242c",
   "metadata": {},
   "outputs": [
    {
     "data": {
      "text/plain": [
       "'Triple quotes comment box can\\nused in multiple line'"
      ]
     },
     "execution_count": 5,
     "metadata": {},
     "output_type": "execute_result"
    }
   ],
   "source": [
    "\"\"\"Triple quotes comment box can\n",
    "used in multiple line\n",
    "as well\"\"\""
   ]
  },
  {
   "cell_type": "markdown",
   "id": "9fd9e9fb-3929-4d38-a38b-567136cdfd3c",
   "metadata": {},
   "source": [
    "Q2"
   ]
  },
  {
   "cell_type": "code",
   "execution_count": 12,
   "id": "31c41cf5-752a-4768-9288-0fbe1b8808ea",
   "metadata": {},
   "outputs": [
    {
     "name": "stdout",
     "output_type": "stream",
     "text": [
      "1\n",
      "Gajju\n",
      "3\n",
      "<class 'int'>\n",
      "<class 'str'>\n",
      "<class 'int'>\n"
     ]
    }
   ],
   "source": [
    "# Variable can be a diferent types of name or alphabetical single word which can stored the data on it. \n",
    "a =1 \n",
    "b =\"Gajju\"\n",
    "c =3\n",
    "\"\"\"As above examples the assigned variables, no need to be declared the data types. \n",
    "In python it is internally recongized by python\"\"\"\n",
    "print(a)\n",
    "print(b)\n",
    "print(c)\n",
    "print(type(a))\n",
    "print(type(b))\n",
    "print(type(c))"
   ]
  },
  {
   "cell_type": "markdown",
   "id": "c0916d53-c868-4e55-a2e2-6c3e24b93931",
   "metadata": {},
   "source": [
    "Q3"
   ]
  },
  {
   "cell_type": "code",
   "execution_count": 21,
   "id": "72ec6f5b-291b-433e-92a6-f13f0396cc0d",
   "metadata": {},
   "outputs": [
    {
     "name": "stdout",
     "output_type": "stream",
     "text": [
      "<class 'int'>\n",
      "<class 'str'>\n"
     ]
    }
   ],
   "source": [
    "#Convertion of one data type to another data type\n",
    "i = 10 \n",
    "print(type(i))\n",
    "s = str(i)\n",
    "print(type(s))"
   ]
  },
  {
   "cell_type": "code",
   "execution_count": 26,
   "id": "73967e92-9bee-47f6-bfa5-1232b2aca505",
   "metadata": {},
   "outputs": [
    {
     "name": "stdout",
     "output_type": "stream",
     "text": [
      "gajju\n",
      "<class 'str'>\n",
      "<class 'list'>\n"
     ]
    },
    {
     "data": {
      "text/plain": [
       "['g', 'a', 'j', 'j', 'u']"
      ]
     },
     "execution_count": 26,
     "metadata": {},
     "output_type": "execute_result"
    }
   ],
   "source": [
    "j = \"gajju\" # this is string data type\n",
    "print(j)\n",
    "print(type(j))\n",
    "k = list(j) \n",
    "print(type(k))\n",
    "list(k) # string data type converted into list"
   ]
  },
  {
   "cell_type": "code",
   "execution_count": 28,
   "id": "bcb54599-758e-466f-80cd-fb06a4ec43e3",
   "metadata": {},
   "outputs": [
    {
     "name": "stdout",
     "output_type": "stream",
     "text": [
      "Gajendra Patle\n",
      "<class 'str'>\n",
      "<class 'tuple'>\n",
      "('G', 'a', 'j', 'e', 'n', 'd', 'r', 'a', ' ', 'P', 'a', 't', 'l', 'e')\n"
     ]
    }
   ],
   "source": [
    "l = \"Gajendra Patle\"\n",
    "print(l)\n",
    "print(type(l))\n",
    "m = tuple(l)\n",
    "print(type(m))\n",
    "print(m)"
   ]
  },
  {
   "cell_type": "markdown",
   "id": "5b2be7d9-4277-4699-bbde-016df6761c40",
   "metadata": {},
   "source": [
    "Q4"
   ]
  },
  {
   "cell_type": "code",
   "execution_count": 82,
   "id": "b054d669-5e43-43ff-9b3a-45b0901c6718",
   "metadata": {},
   "outputs": [
    {
     "data": {
      "text/plain": [
       "'After installing the new version of python app, \\nneed to copy or write the command of executable .py file that has already been preogrammed in python'"
      ]
     },
     "execution_count": 82,
     "metadata": {},
     "output_type": "execute_result"
    }
   ],
   "source": [
    "\"\"\"After installing the new version of python app, \n",
    "need to copy or write the command of executable .py file that has already been preogrammed in python\"\"\"  "
   ]
  },
  {
   "cell_type": "markdown",
   "id": "167e3c56-aed2-4640-83b8-f0ecf363069a",
   "metadata": {},
   "source": [
    "Q5"
   ]
  },
  {
   "cell_type": "code",
   "execution_count": 45,
   "id": "71152bec-a8e1-4b84-ad5f-c60b87528440",
   "metadata": {},
   "outputs": [
    {
     "data": {
      "text/plain": [
       "[2, 3]"
      ]
     },
     "execution_count": 45,
     "metadata": {},
     "output_type": "execute_result"
    }
   ],
   "source": [
    "my_list = [1, 2, 3, 4, 5]\n",
    "my_list[1:3:]"
   ]
  },
  {
   "cell_type": "markdown",
   "id": "e789aa8c-c5bf-4ddb-a07f-0a731975ac20",
   "metadata": {},
   "source": [
    "Q6"
   ]
  },
  {
   "cell_type": "code",
   "execution_count": 57,
   "id": "5386d6bd-0adf-4eeb-bd0d-46aefa57e2f6",
   "metadata": {},
   "outputs": [
    {
     "name": "stdout",
     "output_type": "stream",
     "text": [
      "(5+7j)\n",
      "<class 'complex'>\n"
     ]
    },
    {
     "data": {
      "text/plain": [
       "5.0"
      ]
     },
     "execution_count": 57,
     "metadata": {},
     "output_type": "execute_result"
    }
   ],
   "source": [
    "\"\"\"Complex Number written in the form of a+ib, where a & b are real numbers and i is an \n",
    "imagenery number. Here in python, imagenery number is represented as j\"\"\"\n",
    "\n",
    "c = 5+7j\n",
    "print(c)\n",
    "print(type(c))\n",
    "c.real"
   ]
  },
  {
   "cell_type": "code",
   "execution_count": 56,
   "id": "3171f430-399d-43e7-9ac3-d6420f9fbcea",
   "metadata": {},
   "outputs": [
    {
     "data": {
      "text/plain": [
       "7.0"
      ]
     },
     "execution_count": 56,
     "metadata": {},
     "output_type": "execute_result"
    }
   ],
   "source": [
    "c.imag"
   ]
  },
  {
   "cell_type": "markdown",
   "id": "f4d2422c-d3d9-4244-b0c2-9caf0028ad73",
   "metadata": {},
   "source": [
    "Q7"
   ]
  },
  {
   "cell_type": "code",
   "execution_count": 61,
   "id": "28957c39-b124-490f-8be7-95837e764e92",
   "metadata": {},
   "outputs": [
    {
     "data": {
      "text/plain": [
       "dict"
      ]
     },
     "execution_count": 61,
     "metadata": {},
     "output_type": "execute_result"
    }
   ],
   "source": [
    "#Assigning the Value using Dictionary\n",
    "d1 = {\"Age\" : 25}\n",
    "type(d1)"
   ]
  },
  {
   "cell_type": "markdown",
   "id": "9fc7eadf-0a4d-4294-9c93-6461fc7fbcaa",
   "metadata": {},
   "source": [
    "Q8"
   ]
  },
  {
   "cell_type": "code",
   "execution_count": 62,
   "id": "d8ef4045-46bc-4b1f-84e0-84e3569be197",
   "metadata": {},
   "outputs": [
    {
     "data": {
      "text/plain": [
       "float"
      ]
     },
     "execution_count": 62,
     "metadata": {},
     "output_type": "execute_result"
    }
   ],
   "source": [
    "price = 9.99\n",
    "type(price)"
   ]
  },
  {
   "cell_type": "markdown",
   "id": "5ef0d156-60a5-4e3c-98ea-2969376ae85e",
   "metadata": {},
   "source": [
    "Q9"
   ]
  },
  {
   "cell_type": "code",
   "execution_count": 63,
   "id": "05e089e6-5124-46ad-91c1-10e9adcad644",
   "metadata": {},
   "outputs": [
    {
     "name": "stdout",
     "output_type": "stream",
     "text": [
      "Gajendra Patle\n"
     ]
    }
   ],
   "source": [
    "name = \"Gajendra Patle\"\n",
    "print(name)"
   ]
  },
  {
   "cell_type": "markdown",
   "id": "5e5e19f9-f208-4997-9f83-ebdf0e764321",
   "metadata": {},
   "source": [
    "Q10"
   ]
  },
  {
   "cell_type": "code",
   "execution_count": 75,
   "id": "2448dba1-98de-49e3-8563-9928d477e7f5",
   "metadata": {},
   "outputs": [
    {
     "name": "stdout",
     "output_type": "stream",
     "text": [
      "World\n"
     ]
    }
   ],
   "source": [
    "x = \"Hello World\"\n",
    "print(x[6:])"
   ]
  },
  {
   "cell_type": "markdown",
   "id": "1befc75b-dced-4e53-a26d-8984e0713e5e",
   "metadata": {},
   "source": [
    "Q11"
   ]
  },
  {
   "cell_type": "code",
   "execution_count": 81,
   "id": "ed78b578-3b7b-4bf7-8f65-53cbac720f6e",
   "metadata": {},
   "outputs": [
    {
     "name": "stdout",
     "output_type": "stream",
     "text": [
      "True\n"
     ]
    }
   ],
   "source": [
    "if is_student == True:\n",
    "    print(is_student)\n",
    "else:\n",
    "    print(\"is not a student\")"
   ]
  },
  {
   "cell_type": "code",
   "execution_count": null,
   "id": "7b141138-655f-4527-bdd4-46fab41ae742",
   "metadata": {},
   "outputs": [],
   "source": []
  }
 ],
 "metadata": {
  "kernelspec": {
   "display_name": "Python 3 (ipykernel)",
   "language": "python",
   "name": "python3"
  },
  "language_info": {
   "codemirror_mode": {
    "name": "ipython",
    "version": 3
   },
   "file_extension": ".py",
   "mimetype": "text/x-python",
   "name": "python",
   "nbconvert_exporter": "python",
   "pygments_lexer": "ipython3",
   "version": "3.10.8"
  }
 },
 "nbformat": 4,
 "nbformat_minor": 5
}
