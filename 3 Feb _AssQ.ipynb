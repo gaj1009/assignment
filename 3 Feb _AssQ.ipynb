{
 "cells": [
  {
   "cell_type": "markdown",
   "id": "6e576378-c256-4d31-9d64-6a0860ddd458",
   "metadata": {},
   "source": [
    "Q1"
   ]
  },
  {
   "cell_type": "markdown",
   "id": "96559e11-41ba-42c6-87cc-4bea18d6f8ba",
   "metadata": {},
   "source": [
    "'def' keyword is used for creating the function."
   ]
  },
  {
   "cell_type": "code",
   "execution_count": 2,
   "id": "dc90475d-4998-4155-a651-9d4ceabf29d0",
   "metadata": {},
   "outputs": [],
   "source": [
    "# Creating A FUNCTION to return the list of odd numbers\n",
    "# in the range of 1 to 25"
   ]
  },
  {
   "cell_type": "code",
   "execution_count": 1,
   "id": "9bd15b39-100f-4c7b-8082-12730200caa7",
   "metadata": {},
   "outputs": [],
   "source": [
    "l = range(1,25)\n",
    "def odd_number():\n",
    "\n",
    "    l1 = []\n",
    "    for i in l:\n",
    "        if i%2 != 0:\n",
    "            list[print(i)]\n",
    "    return l\n",
    "            "
   ]
  },
  {
   "cell_type": "code",
   "execution_count": 3,
   "id": "dc4a490c-e8e5-4fb0-af98-9a9f8b33a6a7",
   "metadata": {},
   "outputs": [
    {
     "name": "stdout",
     "output_type": "stream",
     "text": [
      "1\n",
      "3\n",
      "5\n",
      "7\n",
      "9\n",
      "11\n",
      "13\n",
      "15\n",
      "17\n",
      "19\n",
      "21\n",
      "23\n"
     ]
    },
    {
     "data": {
      "text/plain": [
       "range(1, 25)"
      ]
     },
     "execution_count": 3,
     "metadata": {},
     "output_type": "execute_result"
    }
   ],
   "source": [
    "odd_number()"
   ]
  },
  {
   "cell_type": "markdown",
   "id": "4e02598d-d4a1-439c-9d3e-50e99ed6363b",
   "metadata": {},
   "source": [
    "Q2"
   ]
  },
  {
   "cell_type": "code",
   "execution_count": 10,
   "id": "d08cb0c3-6832-4ba3-ab74-95f2b881c631",
   "metadata": {},
   "outputs": [],
   "source": [
    "### *args is used in functions where we need to pass n number of arguments. We can add * in front of any name. The type of function is tuple. \n",
    "### Example:-\n",
    "def test(*gaj):\n",
    "    print(\"This function returns n number of arguments\")\n",
    "    return gaj"
   ]
  },
  {
   "cell_type": "code",
   "execution_count": 12,
   "id": "a38b5b4c-1986-473f-8fc2-3c614a4f3390",
   "metadata": {},
   "outputs": [
    {
     "name": "stdout",
     "output_type": "stream",
     "text": [
      "This function returns n numer of arguments\n"
     ]
    },
    {
     "data": {
      "text/plain": [
       "(1, 2, 3, 4, 5, 678)"
      ]
     },
     "execution_count": 12,
     "metadata": {},
     "output_type": "execute_result"
    }
   ],
   "source": [
    "test(1,2,3,4,5,678)"
   ]
  },
  {
   "cell_type": "code",
   "execution_count": 16,
   "id": "909dabc7-03fb-466c-8e05-0ba696562b6a",
   "metadata": {},
   "outputs": [
    {
     "name": "stdout",
     "output_type": "stream",
     "text": [
      "This function returns n numer of arguments\n"
     ]
    },
    {
     "data": {
      "text/plain": [
       "tuple"
      ]
     },
     "execution_count": 16,
     "metadata": {},
     "output_type": "execute_result"
    }
   ],
   "source": [
    "type(test())"
   ]
  },
  {
   "cell_type": "code",
   "execution_count": 13,
   "id": "3e8fe62d-e9e9-4b75-9c41-8b402b2c93e2",
   "metadata": {},
   "outputs": [],
   "source": [
    "### **kwargs is used to pass n number of keyword arguments. We can add double * in front of any name. The type of function is dictionary.\n",
    "### Example:-\n",
    "def test1(**gajju):\n",
    "    print(\"This function returns n number of keyword argument\")\n",
    "    return gajju"
   ]
  },
  {
   "cell_type": "code",
   "execution_count": 14,
   "id": "b34015ef-0653-456a-ac31-6b2050dd9016",
   "metadata": {},
   "outputs": [
    {
     "name": "stdout",
     "output_type": "stream",
     "text": [
      "This function returns n number of keyword argument\n"
     ]
    },
    {
     "data": {
      "text/plain": [
       "{'a': 'gajju', 'b': 'patle', 'c': 'nagpur'}"
      ]
     },
     "execution_count": 14,
     "metadata": {},
     "output_type": "execute_result"
    }
   ],
   "source": [
    "test1(a = \"gajju\", b = \"patle\", c = \"nagpur\")"
   ]
  },
  {
   "cell_type": "code",
   "execution_count": 17,
   "id": "c61fa15b-8dce-4df8-a629-4faba58eb52b",
   "metadata": {},
   "outputs": [
    {
     "name": "stdout",
     "output_type": "stream",
     "text": [
      "This function returns n number of keyword argument\n"
     ]
    },
    {
     "data": {
      "text/plain": [
       "dict"
      ]
     },
     "execution_count": 17,
     "metadata": {},
     "output_type": "execute_result"
    }
   ],
   "source": [
    "type(test1())"
   ]
  },
  {
   "cell_type": "markdown",
   "id": "a5b39b6a-162d-4eaa-92ef-77c070a3a7d5",
   "metadata": {},
   "source": [
    "Q3"
   ]
  },
  {
   "cell_type": "markdown",
   "id": "2b145942-d552-4719-925e-c16053b2cca0",
   "metadata": {},
   "source": [
    "Iterator :- It is a object which can iterate the element.\n",
    "Iterator is a object like a hand which can pick the elements from Iterable container."
   ]
  },
  {
   "cell_type": "markdown",
   "id": "e24d1761-2902-42e0-8374-a365390e68a7",
   "metadata": {},
   "source": [
    "iter() &  next() is the method is used to initialize the iterator object and the method used for iteration. "
   ]
  },
  {
   "cell_type": "code",
   "execution_count": 34,
   "id": "620a5fff-6eba-4faa-bfc8-75aa812ced6b",
   "metadata": {},
   "outputs": [],
   "source": [
    "###A program to print the first five element of given input list."
   ]
  },
  {
   "cell_type": "code",
   "execution_count": 30,
   "id": "522c7a64-93cd-4d91-a322-0b6ea560508f",
   "metadata": {},
   "outputs": [],
   "source": [
    "l5 = [2,4,6,8,10,12,14,16,18,20]"
   ]
  },
  {
   "cell_type": "code",
   "execution_count": 31,
   "id": "e7fc938e-06bc-49a6-8201-9329a110feda",
   "metadata": {},
   "outputs": [],
   "source": [
    "f_five = iter(l5)"
   ]
  },
  {
   "cell_type": "code",
   "execution_count": 33,
   "id": "1824d66d-fb43-4d90-9565-2366c12a65dc",
   "metadata": {},
   "outputs": [
    {
     "name": "stdout",
     "output_type": "stream",
     "text": [
      "2\n",
      "4\n",
      "6\n",
      "8\n",
      "10\n"
     ]
    }
   ],
   "source": [
    "for i in range(5):\n",
    "    print(next(f_five))"
   ]
  },
  {
   "cell_type": "code",
   "execution_count": 25,
   "id": "ddc426e8-5489-417c-9679-f693454f4dbc",
   "metadata": {},
   "outputs": [
    {
     "data": {
      "text/plain": [
       "4"
      ]
     },
     "execution_count": 25,
     "metadata": {},
     "output_type": "execute_result"
    }
   ],
   "source": [
    "next(f_five)"
   ]
  },
  {
   "cell_type": "code",
   "execution_count": 26,
   "id": "3589dbde-2eae-45b7-b397-75c403aee61e",
   "metadata": {},
   "outputs": [
    {
     "data": {
      "text/plain": [
       "6"
      ]
     },
     "execution_count": 26,
     "metadata": {},
     "output_type": "execute_result"
    }
   ],
   "source": [
    "next(f_five)"
   ]
  },
  {
   "cell_type": "code",
   "execution_count": 27,
   "id": "12e92e0e-baa7-49a6-9b79-a7498067dfef",
   "metadata": {},
   "outputs": [
    {
     "data": {
      "text/plain": [
       "8"
      ]
     },
     "execution_count": 27,
     "metadata": {},
     "output_type": "execute_result"
    }
   ],
   "source": [
    "next(f_five)"
   ]
  },
  {
   "cell_type": "code",
   "execution_count": 28,
   "id": "fe51d5e3-87d9-4dcf-ae41-e8b158a49336",
   "metadata": {},
   "outputs": [
    {
     "data": {
      "text/plain": [
       "10"
      ]
     },
     "execution_count": 28,
     "metadata": {},
     "output_type": "execute_result"
    }
   ],
   "source": [
    "next(f_five)"
   ]
  },
  {
   "cell_type": "markdown",
   "id": "5f9d37ac-4101-4155-a667-bd2b4b69a830",
   "metadata": {},
   "source": [
    "Q4"
   ]
  },
  {
   "cell_type": "markdown",
   "id": "8374efed-ebdf-4092-aaec-c16da139ec2a",
   "metadata": {},
   "source": [
    "Generator function is same as normal function but for getting result it used yield keyword rather then return keyword."
   ]
  },
  {
   "cell_type": "markdown",
   "id": "ac7364e6-778e-420e-b91b-cca52594541a",
   "metadata": {},
   "source": [
    "Yield--- does not stored any memory, it makes the object and retrive from it, computation is power less, memory allocation is less by using YIELD. Output will be slow."
   ]
  },
  {
   "cell_type": "markdown",
   "id": "46168aeb-8a54-47c2-9e2f-14da1fab85e4",
   "metadata": {},
   "source": [
    "Example:-"
   ]
  },
  {
   "cell_type": "code",
   "execution_count": 1,
   "id": "05c4dd1e-f14b-492f-85c0-4fb95211d5f8",
   "metadata": {},
   "outputs": [
    {
     "name": "stdout",
     "output_type": "stream",
     "text": [
      "0\n",
      "1\n",
      "1\n",
      "2\n",
      "3\n",
      "5\n",
      "8\n",
      "13\n",
      "21\n",
      "34\n"
     ]
    }
   ],
   "source": [
    "def fibbo_gene(n):\n",
    "    a, b = 0, 1\n",
    "    c = 0\n",
    "    while c <n:\n",
    "        yield a\n",
    "        a,b = b, a+b\n",
    "        c = c+1          \n",
    "        \n",
    "fibona = fibbo_gene(10)\n",
    "\n",
    "for i in range(10):\n",
    "    print(next(fibona))"
   ]
  },
  {
   "cell_type": "markdown",
   "id": "972c1170-653f-4214-a0bd-0afceba8ba86",
   "metadata": {},
   "source": [
    "Q5"
   ]
  },
  {
   "cell_type": "code",
   "execution_count": 2,
   "id": "8032f286-7edb-420c-a246-43bfe50a710b",
   "metadata": {},
   "outputs": [],
   "source": [
    "###Generator function of Prime number less than 1000:-\n",
    "def prime_num_generator():\n",
    "    num = 2\n",
    "    while True:\n",
    "        if is_prime(num):\n",
    "            yield num\n",
    "        num = num + 1  \n",
    "        \n",
    "def is_prime(n):\n",
    "    if n<2:\n",
    "        return False\n",
    "    for i in range(2,int(n**0.5)+1): #n**0.5 means sqaure root of 'n'.\n",
    "        if n % i == 0:\n",
    "            return False\n",
    "    return True"
   ]
  },
  {
   "cell_type": "code",
   "execution_count": 12,
   "id": "00483d76-0e14-40c9-9a1d-47e650aeba48",
   "metadata": {},
   "outputs": [
    {
     "data": {
      "text/plain": [
       "[2, 3, 5, 7, 11, 13, 17, 19, 23, 29, 31, 37, 41, 43, 47, 53, 59, 61, 67, 71]"
      ]
     },
     "execution_count": 12,
     "metadata": {},
     "output_type": "execute_result"
    }
   ],
   "source": [
    "prime_gen = prime_num_generator()\n",
    "\n",
    "[next(prime_gen)for _ in range(20)]"
   ]
  },
  {
   "cell_type": "markdown",
   "id": "782c13e1-d361-41cc-bb26-9a91d7c36a55",
   "metadata": {},
   "source": [
    "Q6"
   ]
  },
  {
   "cell_type": "code",
   "execution_count": 2,
   "id": "73c15300-d6db-4821-be27-f695c97c3edd",
   "metadata": {},
   "outputs": [
    {
     "name": "stdout",
     "output_type": "stream",
     "text": [
      "1\n",
      "1\n",
      "2\n",
      "3\n",
      "5\n",
      "8\n",
      "13\n",
      "21\n",
      "34\n"
     ]
    }
   ],
   "source": [
    "#To Print the First 10 fibbonaci series using While Loop\n",
    "a, b= 0,1\n",
    "count = 1\n",
    "n = 10\n",
    "while count < n:\n",
    "    a, b= b, a+b\n",
    "    count = count+ 1\n",
    "    print(a)"
   ]
  },
  {
   "cell_type": "markdown",
   "id": "1de07874-c49d-49fd-b008-c1efb16040e6",
   "metadata": {},
   "source": [
    "Q7"
   ]
  },
  {
   "cell_type": "code",
   "execution_count": 4,
   "id": "75914a5e-92eb-4d76-82f0-935bcdd95678",
   "metadata": {},
   "outputs": [
    {
     "name": "stdout",
     "output_type": "stream",
     "text": [
      "['p', 'w', 's', 'k', 'i', 'l', 'l', 'l', 's']\n"
     ]
    }
   ],
   "source": [
    "###List Comprehension to iterate through the given string: ‘pwskills’.\n",
    "given_string = 'pwskillls'\n",
    "iterate = [char for char in given_string]\n",
    "print(iterate)"
   ]
  },
  {
   "cell_type": "markdown",
   "id": "2364e0f6-063c-43b4-bd54-7ae0317b4154",
   "metadata": {},
   "source": [
    "Q8"
   ]
  },
  {
   "cell_type": "code",
   "execution_count": 8,
   "id": "09b087fe-b87a-4190-a904-33957850b932",
   "metadata": {},
   "outputs": [
    {
     "name": "stdin",
     "output_type": "stream",
     "text": [
      "Enter a number:  98789\n"
     ]
    },
    {
     "name": "stdout",
     "output_type": "stream",
     "text": [
      "98789 is a palindrome\n"
     ]
    }
   ],
   "source": [
    "###Program to check whether a given number is Palindrome or not using a while loop.\n",
    "\n",
    "def is_palindrome(number):\n",
    "    original_number = number  # Store the original number for comparison\n",
    "    reversed_number = 0  # Initialize a variable to store the reversed number\n",
    "\n",
    "    while number > 0:\n",
    "        digit = number % 10  # Get the last digit of the number\n",
    "        reversed_number = (reversed_number * 10) + digit  # Build the reversed number\n",
    "        number = number // 10  # Remove the last digit from the number\n",
    "\n",
    "    # Check if the original number is the same as the reversed number\n",
    "    if original_number == reversed_number:\n",
    "        return True\n",
    "    else:\n",
    "        return False\n",
    "\n",
    "# Input from the user\n",
    "num = int(input(\"Enter a number: \"))\n",
    "\n",
    "# Check if the number is a palindrome and print the result\n",
    "if is_palindrome(num):\n",
    "    print(num, \"is a palindrome\")\n",
    "else:\n",
    "    print(num, \"is not a palindrome\")"
   ]
  },
  {
   "cell_type": "markdown",
   "id": "fac7cd5d-0c58-481f-898d-8bbda12d33c3",
   "metadata": {},
   "source": [
    "Q9"
   ]
  },
  {
   "cell_type": "code",
   "execution_count": 13,
   "id": "6e238df1-be4d-4714-80aa-5c652d5bf138",
   "metadata": {},
   "outputs": [
    {
     "name": "stdout",
     "output_type": "stream",
     "text": [
      "[1, 3, 5, 7, 9, 11, 13, 15, 17, 19, 21, 23, 25, 27, 29, 31, 33, 35, 37, 39, 41, 43, 45, 47, 49, 51, 53, 55, 57, 59, 61, 63, 65, 67, 69, 71, 73, 75, 77, 79, 81, 83, 85, 87, 89, 91, 93, 95, 97, 99]\n"
     ]
    }
   ],
   "source": [
    "### A code to print odd numbers from 1 to 100 using list comprehension.\n",
    "\n",
    "# Create a list from 1 to 100\n",
    "numbers = [x for x in range(1, 100)]\n",
    "\n",
    "# Use list comprehension to filter out odd numbers\n",
    "odd_numbers = [x for x in numbers if x % 2 != 0]\n",
    "\n",
    "# Print the list of odd numbers\n",
    "print(odd_numbers)"
   ]
  },
  {
   "cell_type": "code",
   "execution_count": null,
   "id": "dffb7937-e724-4d39-9fd0-ee1f40671983",
   "metadata": {},
   "outputs": [],
   "source": []
  }
 ],
 "metadata": {
  "kernelspec": {
   "display_name": "Python 3 (ipykernel)",
   "language": "python",
   "name": "python3"
  },
  "language_info": {
   "codemirror_mode": {
    "name": "ipython",
    "version": 3
   },
   "file_extension": ".py",
   "mimetype": "text/x-python",
   "name": "python",
   "nbconvert_exporter": "python",
   "pygments_lexer": "ipython3",
   "version": "3.10.8"
  }
 },
 "nbformat": 4,
 "nbformat_minor": 5
}
